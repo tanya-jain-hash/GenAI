{
 "cells": [
  {
   "cell_type": "code",
   "execution_count": 16,
   "id": "9e12213f",
   "metadata": {},
   "outputs": [],
   "source": [
    "# %pip install langchain-pinecone\n",
    "# %pip install pypdf\n",
    "# %pip install sentence-transformers\n",
    "# %pip install ollama\n",
    "# %pip install -U \"autogen-ext[ollama]\"\n",
    "# %pip install crewai\n",
    "# %pip install -U protobuf\n"
   ]
  },
  {
   "cell_type": "code",
   "execution_count": 48,
   "id": "fd4b4003",
   "metadata": {},
   "outputs": [],
   "source": [
    "import os\n",
    "import langchain\n",
    "from langchain_community.document_loaders import PyPDFLoader\n",
    "\n",
    "from pinecone import Pinecone\n",
    "from pinecone import ServerlessSpec\n",
    "\n",
    "from sentence_transformers import SentenceTransformer\n",
    "\n",
    "import ollama\n",
    "from crewai import Agent, Crew, Task\n",
    "from crewai import LLM\n",
    "from crewai.tools import tool\n",
    "\n",
    "from ollama import chat\n",
    "from ollama import ChatResponse\n",
    "\n",
    "from crewai.flow.flow import Flow, listen, start\n",
    "import asyncio\n",
    "\n",
    "from langchain_text_splitters import RecursiveCharacterTextSplitter\n",
    "from langchain_text_splitters import MarkdownHeaderTextSplitter"
   ]
  },
  {
   "cell_type": "code",
   "execution_count": null,
   "id": "cc1df4fe",
   "metadata": {},
   "outputs": [],
   "source": [
    "\n",
    "# texts = text_splitter.split_text(document)"
   ]
  },
  {
   "cell_type": "code",
   "execution_count": null,
   "id": "0fd13a2c",
   "metadata": {},
   "outputs": [],
   "source": [
    "pinecone_api_key  = os.getenv(\"PINECONE_API_KEY\")\n",
    "pc = Pinecone(api_key=pinecone_api_key)\n",
    "\n",
    "index_name = \"logistics-faq\"\n",
    "\n",
    "pc.delete_index(index_name)\n",
    "pc.create_index(\n",
    "        name=index_name,\n",
    "        dimension=384,\n",
    "        metric=\"cosine\",\n",
    "        spec=ServerlessSpec(cloud=\"aws\", region=\"us-east-1\"),\n",
    "    )\n",
    "\n",
    "index = pc.Index(index_name)"
   ]
  },
  {
   "cell_type": "code",
   "execution_count": 54,
   "id": "c7c30ae4",
   "metadata": {},
   "outputs": [],
   "source": [
    "model = SentenceTransformer('sentence-transformers/all-MiniLM-L12-v2')"
   ]
  },
  {
   "cell_type": "code",
   "execution_count": 55,
   "id": "db93f37a",
   "metadata": {},
   "outputs": [
    {
     "name": "stdout",
     "output_type": "stream",
     "text": [
      "c:\\Users\\Anoopkumarjain\\Documents\\git_reps\\GenAI\\documents\n"
     ]
    }
   ],
   "source": [
    "documents_path = os.path.join(os.getcwd(),\"documents\")\n",
    "print(documents_path)"
   ]
  },
  {
   "cell_type": "code",
   "execution_count": 56,
   "id": "bd5efa06",
   "metadata": {},
   "outputs": [],
   "source": [
    "def store_embeddings():\n",
    "    idx = 1\n",
    "    for file in os.listdir(\"documents\"):\n",
    "        f = open(os.path.join(documents_path, file))\n",
    "        text = f.read()\n",
    "        # print(text)\n",
    "        text_splitter = MarkdownHeaderTextSplitter(headers_to_split_on=[(\"--\",\"Pair\")])\n",
    "        splits = text_splitter.split_text(text)\n",
    "        print(len(splits))\n",
    "        embeddings =  model.encode([text]) \n",
    "        vectors = [{\"id\":str(idx),\"values\":embeddings[0],\"metadata\": {'text': text}}]\n",
    "        index.upsert(vectors=vectors,namespace=\"douments\")\n",
    "        idx+=1"
   ]
  },
  {
   "cell_type": "code",
   "execution_count": 57,
   "id": "c981e8f2",
   "metadata": {},
   "outputs": [
    {
     "name": "stdout",
     "output_type": "stream",
     "text": [
      "12\n"
     ]
    }
   ],
   "source": [
    "store_embeddings()"
   ]
  },
  {
   "cell_type": "code",
   "execution_count": 58,
   "id": "df6065b0",
   "metadata": {},
   "outputs": [],
   "source": [
    "def initialise_ollama(model_name=\"tinyllama:1.1b\"):\n",
    "    ollama.pull(model_name)\n",
    "    print(ollama.list())\n",
    "# initialise_ollama()"
   ]
  },
  {
   "cell_type": "code",
   "execution_count": 59,
   "id": "d32347dc",
   "metadata": {},
   "outputs": [],
   "source": [
    "llm = LLM(\n",
    "    model=\"ollama/tinyllama:1.1b\",\n",
    "    base_url=\"http://localhost:11434\"\n",
    ")\n",
    "\n",
    "\n"
   ]
  },
  {
   "cell_type": "code",
   "execution_count": 60,
   "id": "d46ac436",
   "metadata": {},
   "outputs": [],
   "source": [
    "query = \"How long will it take for my package to arrive?\""
   ]
  },
  {
   "cell_type": "code",
   "execution_count": 61,
   "id": "9c4f9018",
   "metadata": {},
   "outputs": [],
   "source": [
    "\n",
    "class ExampleFlow(Flow):\n",
    "    model = llm\n",
    "    @start()\n",
    "    def get_content(self)->list:\n",
    "        \"\"\"Useful to generate answers from retrived chunks of documents\"\"\"\n",
    "        query_embedding = model.encode(query).tolist()\n",
    "\n",
    "        print(\"===========Retrieving content===========\")\n",
    "\n",
    "        results = index.query(\n",
    "            namespace=\"douments\",\n",
    "            vector=query_embedding,\n",
    "            top_k=3,\n",
    "            include_values=False,\n",
    "            include_metadata=True\n",
    "        )\n",
    "\n",
    "        return [match[\"metadata\"][\"text\"].replace(\"\\t\",\" \").replace(\"\\n\",\" \") for match in results[\"matches\"]]\n",
    "\n",
    "    @listen(get_content)\n",
    "    def get_response(self, get_content):\n",
    "        response: ChatResponse = chat(model=\"tinyllama:1.1b\", messages=[\n",
    "        {\n",
    "            'role': 'user',\n",
    "            'content': f\"Answer user query from provided content: \\n query:{query}, content: {get_content}, Answer:\",\n",
    "        },\n",
    "        ])\n",
    "        # or access fields directly from the response object\n",
    "        return response.message.content\n",
    "\n"
   ]
  },
  {
   "cell_type": "code",
   "execution_count": 62,
   "id": "97d54306",
   "metadata": {},
   "outputs": [
    {
     "data": {
      "text/html": [
       "<pre style=\"white-space:pre;overflow-x:auto;line-height:normal;font-family:Menlo,'DejaVu Sans Mono',consolas,'Courier New',monospace\"><span style=\"color: #000080; text-decoration-color: #000080\">╭──────────────────────────────────────────────── Flow Execution ─────────────────────────────────────────────────╮</span>\n",
       "<span style=\"color: #000080; text-decoration-color: #000080\">│</span>                                                                                                                 <span style=\"color: #000080; text-decoration-color: #000080\">│</span>\n",
       "<span style=\"color: #000080; text-decoration-color: #000080\">│</span>  <span style=\"color: #000080; text-decoration-color: #000080; font-weight: bold\">Starting Flow Execution</span>                                                                                        <span style=\"color: #000080; text-decoration-color: #000080\">│</span>\n",
       "<span style=\"color: #000080; text-decoration-color: #000080\">│</span>  <span style=\"color: #c0c0c0; text-decoration-color: #c0c0c0\">Name: </span><span style=\"color: #000080; text-decoration-color: #000080\">ExampleFlow</span>                                                                                              <span style=\"color: #000080; text-decoration-color: #000080\">│</span>\n",
       "<span style=\"color: #000080; text-decoration-color: #000080\">│</span>  <span style=\"color: #c0c0c0; text-decoration-color: #c0c0c0\">ID: </span><span style=\"color: #000080; text-decoration-color: #000080\">cf7275cd-852e-4329-941f-e62c93b8531d</span>                                                                       <span style=\"color: #000080; text-decoration-color: #000080\">│</span>\n",
       "<span style=\"color: #000080; text-decoration-color: #000080\">│</span>                                                                                                                 <span style=\"color: #000080; text-decoration-color: #000080\">│</span>\n",
       "<span style=\"color: #000080; text-decoration-color: #000080\">│</span>                                                                                                                 <span style=\"color: #000080; text-decoration-color: #000080\">│</span>\n",
       "<span style=\"color: #000080; text-decoration-color: #000080\">╰─────────────────────────────────────────────────────────────────────────────────────────────────────────────────╯</span>\n",
       "</pre>\n"
      ],
      "text/plain": [
       "\u001b[34m╭─\u001b[0m\u001b[34m───────────────────────────────────────────────\u001b[0m\u001b[34m Flow Execution \u001b[0m\u001b[34m────────────────────────────────────────────────\u001b[0m\u001b[34m─╮\u001b[0m\n",
       "\u001b[34m│\u001b[0m                                                                                                                 \u001b[34m│\u001b[0m\n",
       "\u001b[34m│\u001b[0m  \u001b[1;34mStarting Flow Execution\u001b[0m                                                                                        \u001b[34m│\u001b[0m\n",
       "\u001b[34m│\u001b[0m  \u001b[37mName: \u001b[0m\u001b[34mExampleFlow\u001b[0m                                                                                              \u001b[34m│\u001b[0m\n",
       "\u001b[34m│\u001b[0m  \u001b[37mID: \u001b[0m\u001b[34mcf7275cd-852e-4329-941f-e62c93b8531d\u001b[0m                                                                       \u001b[34m│\u001b[0m\n",
       "\u001b[34m│\u001b[0m                                                                                                                 \u001b[34m│\u001b[0m\n",
       "\u001b[34m│\u001b[0m                                                                                                                 \u001b[34m│\u001b[0m\n",
       "\u001b[34m╰─────────────────────────────────────────────────────────────────────────────────────────────────────────────────╯\u001b[0m\n"
      ]
     },
     "metadata": {},
     "output_type": "display_data"
    },
    {
     "data": {
      "text/html": [
       "<pre style=\"white-space:pre;overflow-x:auto;line-height:normal;font-family:Menlo,'DejaVu Sans Mono',consolas,'Courier New',monospace\">\n",
       "</pre>\n"
      ],
      "text/plain": [
       "\n"
      ]
     },
     "metadata": {},
     "output_type": "display_data"
    },
    {
     "data": {
      "text/html": [
       "<pre style=\"white-space:pre;overflow-x:auto;line-height:normal;font-family:Menlo,'DejaVu Sans Mono',consolas,'Courier New',monospace\"><span style=\"color: #800080; text-decoration-color: #800080; font-weight: bold\"> Flow started with ID: cf7275cd-852e-4329-941f-e62c93b8531d</span>\n",
       "</pre>\n"
      ],
      "text/plain": [
       "\u001b[1;35m Flow started with ID: cf7275cd-852e-4329-941f-e62c93b8531d\u001b[0m\n"
      ]
     },
     "metadata": {},
     "output_type": "display_data"
    },
    {
     "data": {
      "text/html": [
       "<pre style=\"white-space:pre;overflow-x:auto;line-height:normal;font-family:Menlo,'DejaVu Sans Mono',consolas,'Courier New',monospace\">c:\\Users\\Anoopkumarjain\\anaconda3\\envs\\kaggle\\Lib\\site-packages\\rich\\live.py:231: UserWarning: install \"ipywidgets\"\n",
       "for Jupyter support\n",
       "  warnings.warn('install \"ipywidgets\" for Jupyter support')\n",
       "</pre>\n"
      ],
      "text/plain": [
       "c:\\Users\\Anoopkumarjain\\anaconda3\\envs\\kaggle\\Lib\\site-packages\\rich\\live.py:231: UserWarning: install \"ipywidgets\"\n",
       "for Jupyter support\n",
       "  warnings.warn('install \"ipywidgets\" for Jupyter support')\n"
      ]
     },
     "metadata": {},
     "output_type": "display_data"
    },
    {
     "data": {
      "text/html": [
       "<pre style=\"white-space:pre;overflow-x:auto;line-height:normal;font-family:Menlo,'DejaVu Sans Mono',consolas,'Courier New',monospace\">===========Retrieving content===========\n",
       "</pre>\n"
      ],
      "text/plain": [
       "===========Retrieving content===========\n"
      ]
     },
     "metadata": {},
     "output_type": "display_data"
    },
    {
     "data": {
      "text/html": [
       "<pre style=\"white-space:pre;overflow-x:auto;line-height:normal;font-family:Menlo,'DejaVu Sans Mono',consolas,'Courier New',monospace\"></pre>\n"
      ],
      "text/plain": []
     },
     "metadata": {},
     "output_type": "display_data"
    },
    {
     "data": {
      "text/html": [
       "<pre style=\"white-space:pre;overflow-x:auto;line-height:normal;font-family:Menlo,'DejaVu Sans Mono',consolas,'Courier New',monospace\"><span style=\"color: #008000; text-decoration-color: #008000\">╭──────────────────────────────────────────────── Flow Completion ────────────────────────────────────────────────╮</span>\n",
       "<span style=\"color: #008000; text-decoration-color: #008000\">│</span>                                                                                                                 <span style=\"color: #008000; text-decoration-color: #008000\">│</span>\n",
       "<span style=\"color: #008000; text-decoration-color: #008000\">│</span>  <span style=\"color: #008000; text-decoration-color: #008000; font-weight: bold\">Flow Execution Completed</span>                                                                                       <span style=\"color: #008000; text-decoration-color: #008000\">│</span>\n",
       "<span style=\"color: #008000; text-decoration-color: #008000\">│</span>  <span style=\"color: #c0c0c0; text-decoration-color: #c0c0c0\">Name: </span><span style=\"color: #008000; text-decoration-color: #008000\">ExampleFlow</span>                                                                                              <span style=\"color: #008000; text-decoration-color: #008000\">│</span>\n",
       "<span style=\"color: #008000; text-decoration-color: #008000\">│</span>  <span style=\"color: #c0c0c0; text-decoration-color: #c0c0c0\">ID: </span><span style=\"color: #008000; text-decoration-color: #008000\">cf7275cd-852e-4329-941f-e62c93b8531d</span>                                                                       <span style=\"color: #008000; text-decoration-color: #008000\">│</span>\n",
       "<span style=\"color: #008000; text-decoration-color: #008000\">│</span>                                                                                                                 <span style=\"color: #008000; text-decoration-color: #008000\">│</span>\n",
       "<span style=\"color: #008000; text-decoration-color: #008000\">│</span>                                                                                                                 <span style=\"color: #008000; text-decoration-color: #008000\">│</span>\n",
       "<span style=\"color: #008000; text-decoration-color: #008000\">╰─────────────────────────────────────────────────────────────────────────────────────────────────────────────────╯</span>\n",
       "</pre>\n"
      ],
      "text/plain": [
       "\u001b[32m╭─\u001b[0m\u001b[32m───────────────────────────────────────────────\u001b[0m\u001b[32m Flow Completion \u001b[0m\u001b[32m───────────────────────────────────────────────\u001b[0m\u001b[32m─╮\u001b[0m\n",
       "\u001b[32m│\u001b[0m                                                                                                                 \u001b[32m│\u001b[0m\n",
       "\u001b[32m│\u001b[0m  \u001b[1;32mFlow Execution Completed\u001b[0m                                                                                       \u001b[32m│\u001b[0m\n",
       "\u001b[32m│\u001b[0m  \u001b[37mName: \u001b[0m\u001b[32mExampleFlow\u001b[0m                                                                                              \u001b[32m│\u001b[0m\n",
       "\u001b[32m│\u001b[0m  \u001b[37mID: \u001b[0m\u001b[32mcf7275cd-852e-4329-941f-e62c93b8531d\u001b[0m                                                                       \u001b[32m│\u001b[0m\n",
       "\u001b[32m│\u001b[0m                                                                                                                 \u001b[32m│\u001b[0m\n",
       "\u001b[32m│\u001b[0m                                                                                                                 \u001b[32m│\u001b[0m\n",
       "\u001b[32m╰─────────────────────────────────────────────────────────────────────────────────────────────────────────────────╯\u001b[0m\n"
      ]
     },
     "metadata": {},
     "output_type": "display_data"
    },
    {
     "data": {
      "text/html": [
       "<pre style=\"white-space:pre;overflow-x:auto;line-height:normal;font-family:Menlo,'DejaVu Sans Mono',consolas,'Courier New',monospace\">\n",
       "</pre>\n"
      ],
      "text/plain": [
       "\n"
      ]
     },
     "metadata": {},
     "output_type": "display_data"
    },
    {
     "name": "stdout",
     "output_type": "stream",
     "text": [
      "Generated fun fact: As per our current shipping policy, your parcel should be delivered within approximately 2-5 business days after the order has been processed and confirmed by our team. However, in case of any delays due to customs clearance or postal issues, it may take a bit longer than this duration. We strive to ensure that our customers receive their orders as soon as possible, and we do our best to maintain our promised delivery time frame. Please be assured that we are working hard to improve the delivery process as well.\n"
     ]
    }
   ],
   "source": [
    "flow = ExampleFlow()\n",
    "# flow.plot()\n",
    "result = await flow.kickoff_async()\n",
    "\n",
    "print(f\"Generated fun fact: {result}\")"
   ]
  },
  {
   "cell_type": "code",
   "execution_count": null,
   "id": "b8b68d83",
   "metadata": {},
   "outputs": [],
   "source": []
  }
 ],
 "metadata": {
  "kernelspec": {
   "display_name": "kaggle",
   "language": "python",
   "name": "python3"
  },
  "language_info": {
   "codemirror_mode": {
    "name": "ipython",
    "version": 3
   },
   "file_extension": ".py",
   "mimetype": "text/x-python",
   "name": "python",
   "nbconvert_exporter": "python",
   "pygments_lexer": "ipython3",
   "version": "3.12.6"
  }
 },
 "nbformat": 4,
 "nbformat_minor": 5
}
